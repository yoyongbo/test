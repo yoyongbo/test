{
 "cells": [
  {
   "cell_type": "code",
   "execution_count": 1,
   "metadata": {
    "collapsed": true
   },
   "outputs": [],
   "source": [
    "from os.path import exists, join, basename\n",
    "from os import makedirs, remove\n",
    "from six.moves import urllib\n",
    "import tarfile\n",
    "import zipfile\n",
    "import requests\n",
    "import sys\n",
    "\n",
    "\n",
    "def download_PF_willow(dest=\"datasets\"):\n",
    "    if not exists(dest):\n",
    "        makedirs(dest)\n",
    "        url = \"http://www.di.ens.fr/willow/research/proposalflow/dataset/PF-dataset.zip\"\n",
    "        print(\"downloading url \", url)\n",
    "\n",
    "        data = urllib.request.urlopen(url)\n",
    "\n",
    "        file_path = join(dest, basename(url))\n",
    "        with open(file_path, 'wb') as f:\n",
    "            f.write(data.read())\n",
    "\n",
    "        print(\"Extracting data\")\n",
    "        zip_ref = zipfile.ZipFile(file_path, 'r')\n",
    "        zip_ref.extractall(dest)\n",
    "        zip_ref.close()\n",
    "\n",
    "        remove(file_path)\n",
    "\n",
    "        url = \"http://www.di.ens.fr/willow/research/cnngeometric/other_resources/test_pairs_pf.csv\"\n",
    "        print(\"downloading url \", url)\n",
    "\n",
    "        data = urllib.request.urlopen(url)\n",
    "        file_path = join(dest, 'PF-dataset', basename(url))\n",
    "        with open(file_path, 'wb') as f:\n",
    "            f.write(data.read())\n",
    "\n",
    "\n",
    "def download_pascal(dest=\"datasets/pascal-voc11\"):\n",
    "    if not exists(dest):\n",
    "        makedirs(dest)\n",
    "        url = \"http://host.robots.ox.ac.uk/pascal/VOC/voc2011/VOCtrainval_25-May-2011.tar\"\n",
    "        print(\"downloading url \", url)\n",
    "\n",
    "        data = urllib.request.urlopen(url)\n",
    "\n",
    "        file_path = join(dest, basename(url))\n",
    "        with open(file_path, \"wb\") as f:\n",
    "            response = requests.get(url, stream=True)\n",
    "            total_length = response.headers.get('content-length')\n",
    "\n",
    "            if total_length is None:  # no content length header\n",
    "                f.write(response.content)\n",
    "            else:\n",
    "                dl = 0\n",
    "                total_length = int(total_length)\n",
    "                for data in response.iter_content(chunk_size=4096):\n",
    "                    dl += len(data)\n",
    "                    f.write(data)\n",
    "                    done = int(50 * dl / total_length)\n",
    "                    sys.stdout.write(\"\\r[%s%s]\" % ('=' * done, ' ' * (50 - done)))\n",
    "                    sys.stdout.flush()\n",
    "\n",
    "        print(\"Extracting data\")\n",
    "        zip_ref = tarfile.open(file_path, 'r')\n",
    "        zip_ref.extractall(dest)\n",
    "        zip_ref.close()\n",
    "\n",
    "        remove(file_path)\n"
   ]
  },
  {
   "cell_type": "code",
   "execution_count": null,
   "metadata": {
    "collapsed": true
   },
   "outputs": [],
   "source": []
  },
  {
   "cell_type": "code",
   "execution_count": 3,
   "metadata": {},
   "outputs": [
    {
     "name": "stdout",
     "output_type": "stream",
     "text": [
      "e\n",
      "downloading url  http://www.di.ens.fr/willow/research/proposalflow/dataset/PF-dataset.zip\n",
      "Extracting data\n",
      "downloading url  http://www.di.ens.fr/willow/research/cnngeometric/other_resources/test_pairs_pf.csv\n"
     ]
    }
   ],
   "source": [
    "download_PF_willow()"
   ]
  },
  {
   "cell_type": "code",
   "execution_count": 4,
   "metadata": {},
   "outputs": [
    {
     "name": "stdout",
     "output_type": "stream",
     "text": [
      "downloading url  http://host.robots.ox.ac.uk/pascal/VOC/voc2011/VOCtrainval_25-May-2011.tar\n",
      "[==================================================]Extracting data\n"
     ]
    }
   ],
   "source": [
    "download_pascal()"
   ]
  },
  {
   "cell_type": "code",
   "execution_count": null,
   "metadata": {
    "collapsed": true
   },
   "outputs": [],
   "source": []
  }
 ],
 "metadata": {
  "kernelspec": {
   "display_name": "Python 3",
   "language": "python",
   "name": "python3"
  },
  "language_info": {
   "codemirror_mode": {
    "name": "ipython",
    "version": 3
   },
   "file_extension": ".py",
   "mimetype": "text/x-python",
   "name": "python",
   "nbconvert_exporter": "python",
   "pygments_lexer": "ipython3",
   "version": "3.6.3"
  }
 },
 "nbformat": 4,
 "nbformat_minor": 2
}
